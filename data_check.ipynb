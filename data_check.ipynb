{
 "cells": [
  {
   "cell_type": "code",
   "execution_count": 4,
   "metadata": {},
   "outputs": [
    {
     "name": "stdout",
     "output_type": "stream",
     "text": [
      "데이터 타입: <class 'dict'>\n",
      "키 목록: ['[가입절차] 스마트스토어센터 회원가입은 어떻게 하나요? (ID만들기)', '[가입서류] 스마트스토어 판매자 유형별 필요한 서류가 어떻게 되나요?']\n"
     ]
    }
   ],
   "source": [
    "import pickle\n",
    "\n",
    "# pickle 파일 읽기\n",
    "with open('./data/final_result.pkl', 'rb') as f:\n",
    "    data = pickle.load(f)\n",
    "\n",
    "print(\"데이터 타입:\", type(data))\n",
    "\n",
    "# 데이터가 딕셔너리인 경우\n",
    "if isinstance(data, dict):\n",
    "    print(\"키 목록:\", list(data.keys())[:2])\n",
    "\n",
    "# 데이터가 리스트인 경우\n",
    "elif isinstance(data, list):\n",
    "    print(\"리스트 길이:\", len(data))\n",
    "\n",
    "# 다른 타입의 경우\n",
    "else:\n",
    "    print(data[0])"
   ]
  },
  {
   "cell_type": "code",
   "execution_count": 11,
   "metadata": {},
   "outputs": [],
   "source": [
    "import re \n",
    "\n",
    "def clean_text(text: str) -> str:\n",
    "    \"\"\"FAQ 본문에서 불필요한 별점/후기/공백 등을 제거하기 위한 간단 예시 함수\"\"\"\n",
    "    text = re.sub(r'\\s+', ' ', text)     # 다중 공백 제거\n",
    "    return text.strip()"
   ]
  },
  {
   "cell_type": "code",
   "execution_count": 13,
   "metadata": {},
   "outputs": [
    {
     "name": "stdout",
     "output_type": "stream",
     "text": [
      "key : [가입절차] 스마트스토어센터 회원가입은 어떻게 하나요? (ID만들기)\n",
      "doc : 네이버 커머스 ID 하나로 스마트스토어센터와 같은 네이버의 다양한 커머스 서비스를 편리하게 이용하실 수 있습니다.네이버 커머스 ID가 없으시다면 [가입하기] 버튼을 통해 회원가입해 주세요. 1. '네이버ID' 로 네이버 커머스 ID 가입하기1) [네이버 아이디로 가입하기] 버튼을 눌러서 네이버 로그인 해 주세요.2) 연락가능한 휴대폰번호를 입력하시고 인증하신 후 개인정보 수집동의를 체크 하여 [가입] 버튼을 눌러주세요. 3) 네이버 커머스 ID 회원가입이 완료되어 해당 네이버ID 로 스마트스토어센터 서비스 가입을 하실 수 있습니다. 이 후 스마트스토어센터 로그인 시에 [네이버 아이디로 로그인] 버튼을 눌러서 네이버 로그인을 하실 수 있습니다. 2. '이메일 아이디'로 네이버 커머스 ID 가입하기 1) [이메일 아이디로 가입하기] 버튼을 눌러서 사용할 ID를 입력해 주세요.! 중요. 로그인 ID는 \"실 사용중인 이메일주소\"로 기재하셔야 합니다. (예 : abc@naver.com)2) 연락가능한 휴대폰번호와 이메일주소를 입력하시고 인증하신 후 개인정보 수집동의를 체크 하여 [가입] 버튼을 눌러주세요.3) 네이버 커머스 ID 회원가입이 완료되어 해당 이메일 아이디로 스마트스토어센터 서비스 가입을 하실 수 있습니다.이 후 스마트스토어센터 로그인 시에 해당 이메일 아이디와 비밀번호를 입력하여 로그인을 하실 수 있습니다. ※ 참고. 로그인 ID 계정 대표자와 사업자번호 대표자 동일여부는 체크하지 않습니다. (대표자가 상이해도 가입 진행 가능합니다.) 위 도움말이 도움이 되었나요? 별점1점 별점2점 별점3점 별점4점 별점5점 소중한 의견을 남겨주시면 보완하도록 노력하겠습니다. 보내기 관련 도움말/키워드 스마트스토어 로그인ID(매니저)를 추가하거나 변경할 수 없나요? 네이버 커머스 ID 전환 이후, 이전 아이디로 로그인이 불가한가요? 네이버 커머스 ID 전환 후 로그인이 되지 않아요. 도움말 닫기\n",
      "len : 956\n"
     ]
    }
   ],
   "source": [
    "for key in list(data.keys()):\n",
    "    print(\"key :\", key)\n",
    "    print(\"doc :\", clean_text(data[key]))\n",
    "    print(\"len :\", len(clean_text(data[key])))\n",
    "    break "
   ]
  },
  {
   "cell_type": "code",
   "execution_count": 18,
   "metadata": {},
   "outputs": [
    {
     "name": "stdout",
     "output_type": "stream",
     "text": [
      "총 문서 수: 2717\n",
      "최소 길이: 98\n",
      "최대 길이: 9058\n",
      "평균 길이: 477.4089068825911\n",
      "중간값(50%): 331.0\n",
      "90% 분위: 891.8000000000002\n",
      "95% 분위: 1215.0\n",
      "99% 분위: 2708.600000000002\n"
     ]
    }
   ],
   "source": [
    "import numpy as np \n",
    "import matplotlib.pyplot as plt\n",
    "\n",
    "lengths = []\n",
    "for key, value in data.items():\n",
    "    text = clean_text(value)  # answer 텍스트\n",
    "    lengths.append(len(text))\n",
    "\n",
    "# 2) 기본 통계량 출력\n",
    "lengths_array = np.array(lengths)\n",
    "print(\"총 문서 수:\", len(lengths))\n",
    "print(\"최소 길이:\", lengths_array.min())\n",
    "print(\"최대 길이:\", lengths_array.max())\n",
    "print(\"평균 길이:\", lengths_array.mean())\n",
    "print(\"중간값(50%):\", np.median(lengths_array))\n",
    "print(\"90% 분위:\", np.percentile(lengths_array, 90))\n",
    "print(\"95% 분위:\", np.percentile(lengths_array, 95))\n",
    "print(\"99% 분위:\", np.percentile(lengths_array, 99))"
   ]
  },
  {
   "cell_type": "code",
   "execution_count": 17,
   "metadata": {},
   "outputs": [
    {
     "name": "stdout",
     "output_type": "stream",
     "text": [
      "총 문서(FAQ) 수: 2717\n",
      "최소 토큰 수: 110\n",
      "최대 토큰 수: 8979\n",
      "평균 토큰 수: 474.1475892528524\n",
      "중간값(50%): 333.0\n",
      "90% 분위: 873.8000000000002\n",
      "95% 분위: 1194.0\n",
      "99% 분위: 2603.680000000004\n"
     ]
    }
   ],
   "source": [
    "import tiktoken\n",
    "import re\n",
    "import pickle\n",
    "import numpy as np\n",
    "\n",
    "def clean_text(text: str) -> str:\n",
    "    text = re.sub(r'\\s+', ' ', text)\n",
    "    return text.strip()\n",
    "\n",
    "# 원하는 OpenAI 모델에 맞는 tokenizer\n",
    "tokenizer = tiktoken.encoding_for_model(\"text-embedding-3-small\")\n",
    "\n",
    "with open('./data/final_result.pkl', 'rb') as f:\n",
    "    data = pickle.load(f)\n",
    "\n",
    "token_lengths = []\n",
    "for key, value in data.items():\n",
    "    text = clean_text(value)\n",
    "    tokens = tokenizer.encode(text)\n",
    "    token_lengths.append(len(tokens))\n",
    "\n",
    "token_lengths_array = np.array(token_lengths)\n",
    "print(\"총 문서(FAQ) 수:\", len(token_lengths_array))\n",
    "print(\"최소 토큰 수:\", token_lengths_array.min())\n",
    "print(\"최대 토큰 수:\", token_lengths_array.max())\n",
    "print(\"평균 토큰 수:\", token_lengths_array.mean())\n",
    "print(\"중간값(50%):\", np.median(token_lengths_array))\n",
    "print(\"90% 분위:\", np.percentile(token_lengths_array, 90))\n",
    "print(\"95% 분위:\", np.percentile(token_lengths_array, 95))\n",
    "print(\"99% 분위:\", np.percentile(token_lengths_array, 99))\n"
   ]
  },
  {
   "cell_type": "markdown",
   "metadata": {},
   "source": [
    "# 500 기준으로 Chunk한 경우"
   ]
  },
  {
   "cell_type": "code",
   "execution_count": 1,
   "metadata": {},
   "outputs": [
    {
     "name": "stdout",
     "output_type": "stream",
     "text": [
      "총 문서(청크) 수: 4007\n",
      "가져온 documents: ['[가입절차] 스마트스토어센터 회원가입은 어떻게 하나요? (ID만들기) 네이버 커머스 ID 하나로 스마트스토어센터와 같은 네이버의 다양한 커머스 서비스를 편리하게 이용하실 수 있습니다.네이버 커머스 ID가 없으시다면 [가입하기] 버튼을 통해 회원가입해 주세요. 1. \\'네이버ID\\' 로 네이버 커머스 ID 가입하기1) [네이버 아이디로 가입하기] 버튼을 눌러서 네이버 로그인 해 주세요.2) 연락가능한 휴대폰번호를 입력하시고 인증하신 후 개인정보 수집동의를 체크 하여 [가입] 버튼을 눌러주세요. 3) 네이버 커머스 ID 회원가입이 완료되어 해당 네이버ID 로 스마트스토어센터 서비스 가입을 하실 수 있습니다. 이 후 스마트스토어센터 로그인 시에 [네이버 아이디로 로그인] 버튼을 눌러서 네이버 로그인을 하실 수 있습니다. 2. \\'이메일 아이디\\'로 네이버 커머스 ID 가입하기 1) [이메일 아이디로 가입하기] 버튼을 눌러서 사용할 ID를 입력해 주세요.! 중요. 로그인 ID는 \"실 사용중인 이메', '일주소\"로 기재하셔야 합니다. (예 : abc@naver.com)2) 연락가능한 휴대폰번호와 이메일주소를 입력하시고 인증하신 후 개인정보 수집동의를 체크 하여 [가입] 버튼을 눌러주세요.3) 네이버 커머스 ID 회원가입이 완료되어 해당 이메일 아이디로 스마트스토어센터 서비스 가입을 하실 수 있습니다.이 후 스마트스토어센터 로그인 시에 해당 이메일 아이디와 비밀번호를 입력하여 로그인을 하실 수 있습니다. ※ 참고. 로그인 ID 계정 대표자와 사업자번호 대표자 동일여부는 체크하지 않습니다. (대표자가 상이해도 가입 진행 가능합니다.) 위 도움말이 도움이 되었나요? 별점1점 별점2점 별점3점 별점4점 별점5점 소중한 의견을 남겨주시면 보완하도록 노력하겠습니다. 보내기 관련 도움말/키워드 스마트스토어 로그인ID(매니저)를 추가하거나 변경할 수 없나요? 네이버 커머스 ID 전환 이후, 이전 아이디로 로그인이 불가한가요? 네이버 커머스 ID 전환 후 로그인이 되지 않아요. 도움말 닫기', '[가입서류] 스마트스토어 판매자 유형별 필요한 서류가 어떻게 되나요? 스마트스토어 판매 회원 분류는 아래와 같으며 반드시 모든 서류를 제출해 주셔야 가입이 가능합니다. 가입 서류는 가입 단계에서 업로드 가능하며, 가입 신청 시 서류 준비가 되지 않은 경우 가입 완료 후 [판매자정보 > 심사내역 조회] 메뉴에서 업로드 가능합니다.사업자 등록증의 경우 고객확인제도(AML)를 위한 최신 사업자의 정보를 확인하기 위해 최근 1년 이내 발급분으로 서류 접수받고 있습니다. 판매회원분류 가입 시 필요 서류 국내 개인일반 서류 불필요법정 미성년자(만 19세 미만) 법정대리인 인감증명서 사본 1부 (최근 3개월 이내 발급 분, 생년월일+성별 구분 제외 마스킹 필요) 가족관계증명서 사본 1부 (또는 법정대리임을 증명할 서류) 스마트스토어 법정대리인 동의서 사본 1부 (판매회원 ID 필수 기재) ※ 참고. · 법정대리인 인감증명서 제출이 어려울 경우 법정대리인 본인서명사실확인서로 대체 가능 국내 사업자', \" 법정 미성년자(만 19세 미만) 사업자 등록증 사본 1부 (1년 이내 발급분) 대표자(또는 사업자) 명의 통장 사본 1부 대표자 인감증명서 사본 1부 (3개월 이내 발급분, 생년월일+성별 구분 제외 마스킹 필요) 대표자(또는 사업자) 명의 통장 사본 1부 ※ 참고. · 법정 미성년자 대표자여도 이미 사업자등록증 발급당시 법정대리인 확인 후 발급됨으로 법적대리인의 동의서류는 별도 받지 않음 · 예금주명이 대표자명 또는 사업자등록증의 상호명과 동일할 경우 통장사본 생략 가능 · 공동대표의 경우 대표 대표자가 예금주명에 있는 경우 통장 사본 생략 가능 · 대표자 본인 인감증명서 제출이 필요하며 법적대리인 인감증명서 제출로는 가입 심사 불가능 · 대표자 인감증명서는 '본인서명사실확인서' 사본으로 대체 접수 가능 · 대표자 본인명의 휴대폰 인증시 '대표자 인감증명서'제출 생략 가능 간이/개인사업자 사업자 등록증 사본 1부 (1년 이내 발급분) 대표자 인감증명서 사본 1부 (3개월 이내 발급\", \"분, 생년월일+성별 구분 제외 마스킹 필요) 대표자(또는 사업자) 명의 통장 사본 1부 ※ 참고. · 예금주명이 대표자명 또는 사업자등록증의 상호명과 동일할 경우 통장사본 생략 가능 · 공동대표의 경우 대표 대표자가 예금주명에 있는 경우 통장 사본 생략 가능 · 대표자 인감증명서는 '본인서명사실확인서' 사본으로 대체 접수 가능 법인사업자 사업자 등록증 사본 1부 (1년 이내 발급분) 법인 인감증명서 사본 1부 (3개월 이내 발급분, 생년월일+성별 구분 제외 마스킹 필요) 법인 명의 통장 사본 1부 ※ 참고. · 예금주명이 사업자등록증의 법인 명의(상호명)과 동일한 경우 통장 사본 생략 가능 · 비영리 법인인 경우 법인인감증명서 대신 가입 시 기재한 대표자의 개인인감증명서로 대체 가능 법인 지점사업자 지점 사업자 등록증 사본 1부 (1년 이내 발급분) 법인 인감증명서 사본 1부 (3개월 이내 발급분, 생년월일+성별 구분 제외 마스킹 필요) 지점 명의 통장 사본 1부 해외 사업자 대표자\"]\n",
      "가져온 metadatas: [{'source': '[가입절차] 스마트스토어센터 회원가입은 어떻게 하나요? (ID만들기)'}, {'source': '[가입절차] 스마트스토어센터 회원가입은 어떻게 하나요? (ID만들기)'}, {'source': '[가입서류] 스마트스토어 판매자 유형별 필요한 서류가 어떻게 되나요?'}, {'source': '[가입서류] 스마트스토어 판매자 유형별 필요한 서류가 어떻게 되나요?'}, {'source': '[가입서류] 스마트스토어 판매자 유형별 필요한 서류가 어떻게 되나요?'}]\n",
      "가져온 ids: ['faq_0', 'faq_1', 'faq_2', 'faq_3', 'faq_4']\n"
     ]
    }
   ],
   "source": [
    "import chromadb\n",
    "from chromadb.config import Settings\n",
    "from chromadb.utils import embedding_functions\n",
    "\n",
    "# 이미 embeddings/chroma_db 경로에 DB가 존재한다고 가정\n",
    "client = chromadb.PersistentClient(path=\"./embeddings/chroma_db\")\n",
    "collection = client.get_collection(\"faq_collection\")\n",
    "\n",
    "# 1) 전체 문서 수 확인\n",
    "count = collection.count()\n",
    "print(\"총 문서(청크) 수:\", count)\n",
    "\n",
    "# 2) 일부 문서 가져오기\n",
    "results = collection.get(limit=5)  # limit=5 => 최대 5개만 가져오기\n",
    "print(\"가져온 documents:\", results[\"documents\"])\n",
    "print(\"가져온 metadatas:\", results[\"metadatas\"])\n",
    "print(\"가져온 ids:\", results[\"ids\"])\n",
    "\n"
   ]
  },
  {
   "cell_type": "code",
   "execution_count": null,
   "metadata": {},
   "outputs": [],
   "source": []
  }
 ],
 "metadata": {
  "kernelspec": {
   "display_name": "base",
   "language": "python",
   "name": "python3"
  },
  "language_info": {
   "codemirror_mode": {
    "name": "ipython",
    "version": 3
   },
   "file_extension": ".py",
   "mimetype": "text/x-python",
   "name": "python",
   "nbconvert_exporter": "python",
   "pygments_lexer": "ipython3",
   "version": "3.11.11"
  }
 },
 "nbformat": 4,
 "nbformat_minor": 2
}
